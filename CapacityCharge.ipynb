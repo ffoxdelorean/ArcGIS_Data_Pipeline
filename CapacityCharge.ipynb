{
  "nbformat": 4,
  "nbformat_minor": 0,
  "metadata": {
    "colab": {
      "provenance": [],
      "authorship_tag": "ABX9TyOk9nr5cCWKh37ART8SbrVW",
      "include_colab_link": true
    },
    "kernelspec": {
      "name": "python3",
      "display_name": "Python 3"
    },
    "language_info": {
      "name": "python"
    }
  },
  "cells": [
    {
      "cell_type": "markdown",
      "metadata": {
        "id": "view-in-github",
        "colab_type": "text"
      },
      "source": [
        "<a href=\"https://colab.research.google.com/github/ffoxdelorean/ArcGIS_Data_Pipeline/blob/main/CapacityCharge.ipynb\" target=\"_parent\"><img src=\"https://colab.research.google.com/assets/colab-badge.svg\" alt=\"Open In Colab\"/></a>"
      ]
    },
    {
      "cell_type": "code",
      "execution_count": 1,
      "metadata": {
        "id": "tQduLCVLHxNV"
      },
      "outputs": [],
      "source": [
        "import pandas as pd\n",
        "# @title Setup\n",
        "from google.colab import auth\n",
        "from google.cloud import bigquery\n",
        "from google.colab import data_table\n",
        "\n",
        "project = 'delorean-test-1' # Project ID inserted based on the query results selected to explore\n",
        "location = 'US' # Location inserted based on the query results selected to explore\n",
        "client = bigquery.Client(project=project, location=location)\n",
        "data_table.enable_dataframe_formatter()\n",
        "auth.authenticate_user()\n",
        "\n"
      ]
    },
    {
      "cell_type": "code",
      "source": [
        "isone = pd.read_excel('ISONE_capacity_charge_database.xlsx',na_filter = False)\n",
        "miso = pd.read_excel('MISO_capacity_charge_database.xlsx',na_filter = False)\n",
        "pjm = pd.read_excel('PJM_capacity_charge_database.xlsx',na_filter = False)\n",
        "nyiso = pd.read_excel('NYISO_capacity_charge_database.xlsx',na_filter = False)\n",
        "nyiso = pd.read_excel('NYISO_capacity_charge_database.xlsx',na_filter = False)\n",
        "spp = pd.read_excel('SPP_Capacity_Charge_Database.xlsx',na_filter = False)"
      ],
      "metadata": {
        "id": "_iMDbkHkIJS0"
      },
      "execution_count": null,
      "outputs": []
    },
    {
      "cell_type": "code",
      "source": [
        "miso_v2 = pd.read_excel('miso_capacity_charge_databasev42.xlsx',na_filter = False)\n",
        "isone_v2 = pd.read_excel('isone_capacity_charge_databasev42.xlsx',na_filter = False)"
      ],
      "metadata": {
        "id": "5Sbjr5mj6iNN"
      },
      "execution_count": null,
      "outputs": []
    },
    {
      "cell_type": "code",
      "source": [
        "pjm_v2 = pd.read_excel('PJM_capacity_charge_42.xlsx',na_filter = False)"
      ],
      "metadata": {
        "id": "AezX3qndsf-9"
      },
      "execution_count": 3,
      "outputs": []
    },
    {
      "cell_type": "code",
      "source": [
        "!pip install datetime\n",
        "import datetime as dt"
      ],
      "metadata": {
        "id": "SQnsl8HNVHfm",
        "colab": {
          "base_uri": "https://localhost:8080/"
        },
        "outputId": "a019b98a-e0ef-45f1-a1df-8afb2d8b4351"
      },
      "execution_count": 4,
      "outputs": [
        {
          "output_type": "stream",
          "name": "stdout",
          "text": [
            "Collecting datetime\n",
            "  Downloading DateTime-5.5-py3-none-any.whl (52 kB)\n",
            "\u001b[2K     \u001b[90m━━━━━━━━━━━━━━━━━━━━━━━━━━━━━━━━━━━━━━━━\u001b[0m \u001b[32m52.6/52.6 kB\u001b[0m \u001b[31m2.2 MB/s\u001b[0m eta \u001b[36m0:00:00\u001b[0m\n",
            "\u001b[?25hCollecting zope.interface (from datetime)\n",
            "  Downloading zope.interface-6.2-cp310-cp310-manylinux_2_5_x86_64.manylinux1_x86_64.manylinux_2_17_x86_64.manylinux2014_x86_64.whl (247 kB)\n",
            "\u001b[2K     \u001b[90m━━━━━━━━━━━━━━━━━━━━━━━━━━━━━━━━━━━━━━━━\u001b[0m \u001b[32m247.3/247.3 kB\u001b[0m \u001b[31m9.1 MB/s\u001b[0m eta \u001b[36m0:00:00\u001b[0m\n",
            "\u001b[?25hRequirement already satisfied: pytz in /usr/local/lib/python3.10/dist-packages (from datetime) (2023.4)\n",
            "Requirement already satisfied: setuptools in /usr/local/lib/python3.10/dist-packages (from zope.interface->datetime) (67.7.2)\n",
            "Installing collected packages: zope.interface, datetime\n",
            "Successfully installed datetime-5.5 zope.interface-6.2\n"
          ]
        }
      ]
    },
    {
      "cell_type": "code",
      "source": [
        "nyiso['time_imported'] = dt.datetime.now()\n",
        "isone['time_imported'] = dt.datetime.now()\n",
        "miso['time_imported'] = dt.datetime.now()\n",
        "pjm['time_imported'] = dt.datetime.now()\n",
        "spp['time_imported'] = dt.datetime.now()\n",
        "miso_v2['time_imported'] = dt.datetime.now()\n",
        "isone_v2['time_imported'] = dt.datetime.now()"
      ],
      "metadata": {
        "id": "idVX2SWpKnxA",
        "colab": {
          "base_uri": "https://localhost:8080/",
          "height": 222
        },
        "outputId": "6e70e182-039e-4d5d-c140-a29795257b73"
      },
      "execution_count": null,
      "outputs": [
        {
          "output_type": "error",
          "ename": "NameError",
          "evalue": "name 'isone' is not defined",
          "traceback": [
            "\u001b[0;31m---------------------------------------------------------------------------\u001b[0m",
            "\u001b[0;31mNameError\u001b[0m                                 Traceback (most recent call last)",
            "\u001b[0;32m<ipython-input-3-875b2a0b57bf>\u001b[0m in \u001b[0;36m<cell line: 2>\u001b[0;34m()\u001b[0m\n\u001b[1;32m      1\u001b[0m \u001b[0mnyiso\u001b[0m\u001b[0;34m[\u001b[0m\u001b[0;34m'time_imported'\u001b[0m\u001b[0;34m]\u001b[0m \u001b[0;34m=\u001b[0m \u001b[0mdt\u001b[0m\u001b[0;34m.\u001b[0m\u001b[0mdatetime\u001b[0m\u001b[0;34m.\u001b[0m\u001b[0mnow\u001b[0m\u001b[0;34m(\u001b[0m\u001b[0;34m)\u001b[0m\u001b[0;34m\u001b[0m\u001b[0;34m\u001b[0m\u001b[0m\n\u001b[0;32m----> 2\u001b[0;31m \u001b[0misone\u001b[0m\u001b[0;34m[\u001b[0m\u001b[0;34m'time_imported'\u001b[0m\u001b[0;34m]\u001b[0m \u001b[0;34m=\u001b[0m \u001b[0mdt\u001b[0m\u001b[0;34m.\u001b[0m\u001b[0mdatetime\u001b[0m\u001b[0;34m.\u001b[0m\u001b[0mnow\u001b[0m\u001b[0;34m(\u001b[0m\u001b[0;34m)\u001b[0m\u001b[0;34m\u001b[0m\u001b[0;34m\u001b[0m\u001b[0m\n\u001b[0m\u001b[1;32m      3\u001b[0m \u001b[0mmiso\u001b[0m\u001b[0;34m[\u001b[0m\u001b[0;34m'time_imported'\u001b[0m\u001b[0;34m]\u001b[0m \u001b[0;34m=\u001b[0m \u001b[0mdt\u001b[0m\u001b[0;34m.\u001b[0m\u001b[0mdatetime\u001b[0m\u001b[0;34m.\u001b[0m\u001b[0mnow\u001b[0m\u001b[0;34m(\u001b[0m\u001b[0;34m)\u001b[0m\u001b[0;34m\u001b[0m\u001b[0;34m\u001b[0m\u001b[0m\n\u001b[1;32m      4\u001b[0m \u001b[0mpjm\u001b[0m\u001b[0;34m[\u001b[0m\u001b[0;34m'time_imported'\u001b[0m\u001b[0;34m]\u001b[0m \u001b[0;34m=\u001b[0m \u001b[0mdt\u001b[0m\u001b[0;34m.\u001b[0m\u001b[0mdatetime\u001b[0m\u001b[0;34m.\u001b[0m\u001b[0mnow\u001b[0m\u001b[0;34m(\u001b[0m\u001b[0;34m)\u001b[0m\u001b[0;34m\u001b[0m\u001b[0;34m\u001b[0m\u001b[0m\n\u001b[1;32m      5\u001b[0m \u001b[0mspp\u001b[0m\u001b[0;34m[\u001b[0m\u001b[0;34m'time_imported'\u001b[0m\u001b[0;34m]\u001b[0m \u001b[0;34m=\u001b[0m \u001b[0mdt\u001b[0m\u001b[0;34m.\u001b[0m\u001b[0mdatetime\u001b[0m\u001b[0;34m.\u001b[0m\u001b[0mnow\u001b[0m\u001b[0;34m(\u001b[0m\u001b[0;34m)\u001b[0m\u001b[0;34m\u001b[0m\u001b[0;34m\u001b[0m\u001b[0m\n",
            "\u001b[0;31mNameError\u001b[0m: name 'isone' is not defined"
          ]
        }
      ]
    },
    {
      "cell_type": "code",
      "source": [
        "pjm_v2['time_imported'] = dt.datetime.now()"
      ],
      "metadata": {
        "id": "iDg0A3PIspWf"
      },
      "execution_count": 5,
      "outputs": []
    },
    {
      "cell_type": "code",
      "source": [
        "\n",
        "isone.capacity_price_dollars_kw_mo = isone.capacity_price_dollars_kw_mo.round(3)\n",
        "miso.capacity_price_dollars_kw_mo = miso.capacity_price_dollars_kw_mo.round(3)\n",
        "pjm.capacity_price_dollars_kw_mo = pjm.capacity_price_dollars_kw_mo.round(3)\n",
        "spp.capacity_price_dollars_kw_mo = spp.capacity_price_dollars_kw_mo.round(3)\n",
        "nyiso.capacity_price_dollars_kw_mo = nyiso.capacity_price_dollars_kw_mo.round(3)\n",
        "miso_v2.capacity_price_dollars_kw_mo = miso_v2.capacity_price_dollars_kw_mo.round(3)\n",
        "isone_v2.capacity_price_dollars_kw_mo = isone_v2.capacity_price_dollars_kw_mo.round(3)"
      ],
      "metadata": {
        "id": "eidED_-kLRHH"
      },
      "execution_count": null,
      "outputs": []
    },
    {
      "cell_type": "code",
      "source": [
        "pjm_v2.capacity_price_dollars_kw_mo = pjm_v2.capacity_price_dollars_kw_mo.round(3)"
      ],
      "metadata": {
        "id": "uM_7GuN3ssMo"
      },
      "execution_count": 6,
      "outputs": []
    },
    {
      "cell_type": "code",
      "source": [
        "isone['version'] = isone['version'].astype(str)\n",
        "miso['version'] = miso['version'].astype(str)\n",
        "pjm['version'] = pjm['version'].astype(str)\n",
        "spp['version'] = spp['version'].astype(str)\n",
        "nyiso['version'] = nyiso['version'].astype(str)\n",
        "miso_v2['version'] = miso_v2['version'].astype(str)\n",
        "isone_v2['version'] = isone_v2['version'].astype(str)\n",
        "\n",
        "isone['sub_region'] = isone['sub_region'].astype(str)\n",
        "miso['sub_region'] = miso['sub_region'].astype(str)\n",
        "pjm['sub_region'] = pjm['sub_region'].astype(str)\n",
        "spp['sub_region'] = spp['sub_region'].astype(str)\n",
        "nyiso['sub_region'] = nyiso['sub_region'].astype(str)\n",
        "miso_v2['sub_region'] = miso_v2['sub_region'].astype(str)\n",
        "isone_v2['sub_region'] = isone_v2['sub_region'].astype(str)\n",
        "\n",
        "isone['main_region'] = isone['main_region'].astype(str)\n",
        "miso['main_region'] = miso['main_region'].astype(str)\n",
        "pjm['main_region'] = pjm['main_region'].astype(str)\n",
        "spp['main_region'] = spp['main_region'].astype(str)\n",
        "nyiso['main_region'] = nyiso['main_region'].astype(str)\n",
        "miso_v2['main_region'] = miso_v2['main_region'].astype(str)\n",
        "isone_v2['main_region'] = isone_v2['main_region'].astype(str)"
      ],
      "metadata": {
        "id": "yDtiGoi0WzE2"
      },
      "execution_count": null,
      "outputs": []
    },
    {
      "cell_type": "code",
      "source": [
        "\n",
        "pjm_v2['main_region'] = pjm_v2['main_region'].astype(str)\n",
        "pjm_v2['sub_region'] = pjm_v2['sub_region'].astype(str)\n",
        "pjm_v2['version'] = pjm_v2['version'].astype(str)"
      ],
      "metadata": {
        "id": "Bk9eVPw0svfl"
      },
      "execution_count": 7,
      "outputs": []
    },
    {
      "cell_type": "code",
      "source": [
        "\n",
        "miso['auction_name'] = miso['auction_name'].astype(str)\n",
        "pjm['auction_name'] = pjm['auction_name'].astype(str)\n",
        "nyiso['auction_name'] = nyiso['auction_name'].astype(str)\n",
        "spp['auction_name'] = spp['auction_name'].astype(str)\n",
        "isone['auction_name'] = isone['auction_name'].astype(str)\n",
        "miso_v2['auction_name'] = miso_v2['auction_name'].astype(str)\n",
        "isone_v2['auction_name'] = isone_v2['auction_name'].astype(str)\n",
        "\n",
        "miso['release_date'] = miso['release_date'].astype(str)\n",
        "pjm['release_date'] = pjm['release_date'].astype(str)\n",
        "nyiso['release_date'] = nyiso['release_date'].astype(str)\n",
        "spp['release_date'] = spp['release_date'].astype(str)\n",
        "isone['release_date'] = isone['release_date'].astype(str)\n",
        "miso_v2['release_date'] = miso_v2['release_date'].astype(str)\n",
        "isone_v2['release_date'] = isone_v2['release_date'].astype(str)"
      ],
      "metadata": {
        "id": "F91sVFD_Lz-_"
      },
      "execution_count": null,
      "outputs": []
    },
    {
      "cell_type": "code",
      "source": [
        "pjm_v2['auction_name'] = pjm_v2['auction_name'].astype(str)\n",
        "pjm_v2['release_date'] = pjm_v2['release_date'].astype(str)"
      ],
      "metadata": {
        "id": "c7QsxCqSs1ut"
      },
      "execution_count": 8,
      "outputs": []
    },
    {
      "cell_type": "code",
      "source": [
        "import pandas_gbq\n",
        "schema = [\n",
        "    {'name': 'index', 'type': 'INTEGER'},\n",
        "    {'name': 'RTO', 'type': 'STRING'},\n",
        "    {'name': 'type', 'type': 'STRING'},\n",
        "    {'name': 'source', 'type': 'STRING'},\n",
        "    {'name': 'main_region', 'type': 'STRING'},\n",
        "    {'name': 'sub_region', 'type': 'STRING'},\n",
        "    {'name': 'year', 'type': 'INTEGER'},\n",
        "    {'name': 'month', 'type': 'INTEGER'},\n",
        "    {'name': 'capacity_price_dollars_kw_month', 'type': 'FLOAT'},\n",
        "    {'name': 'auction_name', 'type': 'STRING'},\n",
        "    {'name': 'version', 'type': 'STRING'},\n",
        "    {'name': 'release_date', 'type': 'STRING'},\n",
        "    {'name': 'time_imported', 'type': 'DATETIME'}]"
      ],
      "metadata": {
        "id": "U09vKo3VMVEk"
      },
      "execution_count": 9,
      "outputs": []
    },
    {
      "cell_type": "code",
      "source": [
        "combined_df = pd.concat([isone,miso,pjm,spp,nyiso,miso_v2])"
      ],
      "metadata": {
        "id": "SfnggcjOfeQc"
      },
      "execution_count": null,
      "outputs": []
    },
    {
      "cell_type": "code",
      "source": [
        "pandas_gbq.to_gbq(isone_v2, \"markets_iso_ne.isone_capacity_charge\", project_id=\"delorean-test-1\", table_schema=schema, if_exists = \"append\")\n"
      ],
      "metadata": {
        "colab": {
          "base_uri": "https://localhost:8080/"
        },
        "id": "UFdfZlu1NDyl",
        "outputId": "2fe9cd90-ed09-44f2-c381-90e4f339f76c"
      },
      "execution_count": null,
      "outputs": [
        {
          "output_type": "stream",
          "name": "stderr",
          "text": [
            "100%|██████████| 1/1 [00:00<00:00, 4588.95it/s]\n"
          ]
        }
      ]
    },
    {
      "cell_type": "code",
      "source": [
        "pandas_gbq.to_gbq(miso_v2, \"markets_miso.miso_capacity_charge\", project_id=\"delorean-test-1\", table_schema=schema, if_exists = \"append\")\n"
      ],
      "metadata": {
        "colab": {
          "base_uri": "https://localhost:8080/"
        },
        "id": "NltwIChPDUj3",
        "outputId": "64da1b8e-2381-496b-916d-e5c9f1e0aecf"
      },
      "execution_count": null,
      "outputs": [
        {
          "output_type": "stream",
          "name": "stderr",
          "text": [
            "100%|██████████| 1/1 [00:00<00:00, 8019.70it/s]\n"
          ]
        }
      ]
    },
    {
      "cell_type": "code",
      "source": [
        "pandas_gbq.to_gbq(pjm_v2, \"markets_pjm.pjm_capacity_charge\", project_id=\"delorean-test-1\", table_schema=schema, if_exists = \"append\")\n"
      ],
      "metadata": {
        "colab": {
          "base_uri": "https://localhost:8080/"
        },
        "id": "cEwM_CQi7eoJ",
        "outputId": "ce2c69c7-18ed-4801-dc59-7befe7e9b320"
      },
      "execution_count": 10,
      "outputs": [
        {
          "output_type": "stream",
          "name": "stderr",
          "text": [
            "100%|██████████| 1/1 [00:00<00:00, 5660.33it/s]\n"
          ]
        }
      ]
    },
    {
      "cell_type": "code",
      "source": [
        "pandas_gbq.to_gbq(spp, \"markets_spp.spp_capacity_charge\", project_id=\"delorean-test-1\", table_schema=schema, if_exists = \"replace\")\n"
      ],
      "metadata": {
        "colab": {
          "base_uri": "https://localhost:8080/"
        },
        "id": "YSmySGdoFqQI",
        "outputId": "78b1c9ee-4652-4bb4-8388-c041b736b49c"
      },
      "execution_count": null,
      "outputs": [
        {
          "output_type": "stream",
          "name": "stderr",
          "text": [
            "100%|██████████| 1/1 [00:00<00:00, 644.29it/s]\n"
          ]
        }
      ]
    },
    {
      "cell_type": "code",
      "source": [
        "pandas_gbq.to_gbq(nyiso, \"markets_nyiso.nyiso_capacity_charge\", project_id=\"delorean-test-1\", table_schema=schema, if_exists = \"replace\")\n"
      ],
      "metadata": {
        "colab": {
          "base_uri": "https://localhost:8080/"
        },
        "id": "0qikYH8LjDow",
        "outputId": "dedd30b7-c4a4-44fe-db40-a760ff54ec98"
      },
      "execution_count": null,
      "outputs": [
        {
          "output_type": "stream",
          "name": "stderr",
          "text": [
            "100%|██████████| 1/1 [00:00<00:00, 6335.81it/s]\n"
          ]
        }
      ]
    },
    {
      "cell_type": "code",
      "source": [
        "pandas_gbq.to_gbq(isone_v2, \"markets_analytics.markets_capacity_charge\", project_id=\"delorean-test-1\", table_schema=schema, if_exists = \"append\")\n"
      ],
      "metadata": {
        "colab": {
          "base_uri": "https://localhost:8080/"
        },
        "id": "xF6adsS4fy9e",
        "outputId": "339f8e7c-ce97-4e85-d2f2-f7f3dfa715f5"
      },
      "execution_count": null,
      "outputs": [
        {
          "output_type": "stream",
          "name": "stderr",
          "text": [
            "100%|██████████| 1/1 [00:00<00:00, 8256.50it/s]\n"
          ]
        }
      ]
    }
  ]
}