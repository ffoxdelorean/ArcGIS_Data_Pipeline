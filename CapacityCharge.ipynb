{
  "nbformat": 4,
  "nbformat_minor": 0,
  "metadata": {
    "colab": {
      "provenance": [],
      "authorship_tag": "ABX9TyPGRYAvlJ8h6SjYD0kWbvvC",
      "include_colab_link": true
    },
    "kernelspec": {
      "name": "python3",
      "display_name": "Python 3"
    },
    "language_info": {
      "name": "python"
    }
  },
  "cells": [
    {
      "cell_type": "markdown",
      "metadata": {
        "id": "view-in-github",
        "colab_type": "text"
      },
      "source": [
        "<a href=\"https://colab.research.google.com/github/ffoxdelorean/ArcGIS_Data_Pipeline/blob/main/CapacityCharge.ipynb\" target=\"_parent\"><img src=\"https://colab.research.google.com/assets/colab-badge.svg\" alt=\"Open In Colab\"/></a>"
      ]
    },
    {
      "cell_type": "code",
      "execution_count": 2,
      "metadata": {
        "id": "tQduLCVLHxNV"
      },
      "outputs": [],
      "source": [
        "import pandas as pd\n",
        "# @title Setup\n",
        "from google.colab import auth\n",
        "from google.cloud import bigquery\n",
        "from google.colab import data_table\n",
        "\n",
        "project = 'delorean-test-1' # Project ID inserted based on the query results selected to explore\n",
        "location = 'US' # Location inserted based on the query results selected to explore\n",
        "client = bigquery.Client(project=project, location=location)\n",
        "data_table.enable_dataframe_formatter()\n",
        "auth.authenticate_user()\n",
        "\n"
      ]
    },
    {
      "cell_type": "code",
      "source": [
        "isone = pd.read_excel('ISONE_capacity_charge_database.xlsx')\n",
        "miso = pd.read_excel('MISO_capacity_charge_database.xlsx')"
      ],
      "metadata": {
        "id": "_iMDbkHkIJS0"
      },
      "execution_count": 3,
      "outputs": []
    },
    {
      "cell_type": "code",
      "source": [
        "!pip install datetime\n",
        "import datetime as dt\n",
        "isone['Time_Imported'] = dt.datetime.now()\n",
        "miso['Time_Imported'] = dt.datetime.now()"
      ],
      "metadata": {
        "colab": {
          "base_uri": "https://localhost:8080/"
        },
        "id": "idVX2SWpKnxA",
        "outputId": "6cd28d5f-55c3-4743-baca-db9605b7ea95"
      },
      "execution_count": 4,
      "outputs": [
        {
          "output_type": "stream",
          "name": "stdout",
          "text": [
            "Collecting datetime\n",
            "  Downloading DateTime-5.2-py3-none-any.whl (52 kB)\n",
            "\u001b[2K     \u001b[90m━━━━━━━━━━━━━━━━━━━━━━━━━━━━━━━━━━━━━━━━\u001b[0m \u001b[32m52.2/52.2 kB\u001b[0m \u001b[31m1.4 MB/s\u001b[0m eta \u001b[36m0:00:00\u001b[0m\n",
            "\u001b[?25hCollecting zope.interface (from datetime)\n",
            "  Downloading zope.interface-6.1-cp310-cp310-manylinux_2_5_x86_64.manylinux1_x86_64.manylinux_2_17_x86_64.manylinux2014_x86_64.whl (247 kB)\n",
            "\u001b[2K     \u001b[90m━━━━━━━━━━━━━━━━━━━━━━━━━━━━━━━━━━━━━━━━\u001b[0m \u001b[32m247.1/247.1 kB\u001b[0m \u001b[31m7.7 MB/s\u001b[0m eta \u001b[36m0:00:00\u001b[0m\n",
            "\u001b[?25hRequirement already satisfied: pytz in /usr/local/lib/python3.10/dist-packages (from datetime) (2023.3.post1)\n",
            "Requirement already satisfied: setuptools in /usr/local/lib/python3.10/dist-packages (from zope.interface->datetime) (67.7.2)\n",
            "Installing collected packages: zope.interface, datetime\n",
            "Successfully installed datetime-5.2 zope.interface-6.1\n"
          ]
        }
      ]
    },
    {
      "cell_type": "code",
      "source": [
        "\n",
        "isone.capacity_price_dollars_kw_mo = isone.capacity_price_dollars_kw_mo.round(3)\n",
        "miso.capacity_price_dollars_kw_mo = miso.capacity_price_dollars_kw_mo.round(3)"
      ],
      "metadata": {
        "id": "eidED_-kLRHH"
      },
      "execution_count": 5,
      "outputs": []
    },
    {
      "cell_type": "code",
      "source": [
        "isone['version'] = isone['version'].astype(str)\n",
        "miso['version'] = miso['version'].astype(str)"
      ],
      "metadata": {
        "id": "yDtiGoi0WzE2"
      },
      "execution_count": 6,
      "outputs": []
    },
    {
      "cell_type": "code",
      "source": [
        "miso['source_region'] = miso['source_region'].astype(str)\n",
        "miso['auction'] = miso['auction'].astype(str)"
      ],
      "metadata": {
        "id": "F91sVFD_Lz-_"
      },
      "execution_count": 17,
      "outputs": []
    },
    {
      "cell_type": "code",
      "source": [
        "import pandas_gbq\n",
        "schema = [\n",
        "    {'name': 'index', 'type': 'INTEGER'},\n",
        "    {'name': 'RTO', 'type': 'STRING'},\n",
        "    {'name': 'zone', 'type': 'STRING'},\n",
        "    {'name': 'source_region', 'type': 'STRING'},\n",
        "    {'name': 'year', 'type': 'INTEGER'},\n",
        "    {'name': 'month', 'type': 'INTEGER'},\n",
        "    {'name': 'auction', 'type': 'STRING'},\n",
        "    {'name': 'capacity_price_dollars_kw_month', 'type': 'FLOAT'},\n",
        "    {'name': 'version', 'type': 'STRING'},\n",
        "    {'name': 'source', 'type': 'STRING'},\n",
        "    {'name': 'Time_Imported', 'type': 'DATETIME'}]"
      ],
      "metadata": {
        "id": "U09vKo3VMVEk"
      },
      "execution_count": 8,
      "outputs": []
    },
    {
      "cell_type": "code",
      "source": [
        "schema_miso = [\n",
        "    {'name': 'index', 'type': 'INTEGER'},\n",
        "    {'name': 'RTO', 'type': 'STRING'},\n",
        "    {'name': 'zone', 'type': 'INTEGER'},\n",
        "    {'name': 'source_region', 'type': 'STRING'},\n",
        "    {'name': 'year', 'type': 'INTEGER'},\n",
        "    {'name': 'month', 'type': 'INTEGER'},\n",
        "    {'name': 'auction', 'type': 'STRING'},\n",
        "    {'name': 'capacity_price_dollars_kw_month', 'type': 'FLOAT'},\n",
        "    {'name': 'version', 'type': 'STRING'},\n",
        "    {'name': 'source', 'type': 'STRING'},\n",
        "    {'name': 'Time_Imported', 'type': 'DATETIME'}]"
      ],
      "metadata": {
        "id": "tWwJGAdyDeS5"
      },
      "execution_count": 14,
      "outputs": []
    },
    {
      "cell_type": "code",
      "source": [
        "miso.dtypes"
      ],
      "metadata": {
        "colab": {
          "base_uri": "https://localhost:8080/"
        },
        "id": "0W52xFLdD63b",
        "outputId": "12523ba6-3384-41ac-b08d-af53ba60412d"
      },
      "execution_count": 18,
      "outputs": [
        {
          "output_type": "execute_result",
          "data": {
            "text/plain": [
              "RTO                                     object\n",
              "zone                                     int64\n",
              "source_region                           object\n",
              "year                                     int64\n",
              "month                                    int64\n",
              "auction                                 object\n",
              "type                                    object\n",
              "capacity_price_dollars_kw_mo           float64\n",
              "version                                 object\n",
              "source                                  object\n",
              "Time_Imported                   datetime64[ns]\n",
              "dtype: object"
            ]
          },
          "metadata": {},
          "execution_count": 18
        }
      ]
    },
    {
      "cell_type": "code",
      "source": [
        "pandas_gbq.to_gbq(isone, \"markets_iso_ne.isone_capacity_charge\", project_id=\"delorean-test-1\", table_schema=schema, if_exists = \"replace\")\n"
      ],
      "metadata": {
        "colab": {
          "base_uri": "https://localhost:8080/"
        },
        "id": "UFdfZlu1NDyl",
        "outputId": "5faa9cd0-aba8-4c87-b364-04ef41328fc8"
      },
      "execution_count": null,
      "outputs": [
        {
          "output_type": "stream",
          "name": "stderr",
          "text": [
            "100%|██████████| 1/1 [00:00<00:00, 7839.82it/s]\n"
          ]
        }
      ]
    },
    {
      "cell_type": "code",
      "source": [
        "pandas_gbq.to_gbq(miso, \"markets_miso.miso_capacity_charge\", project_id=\"delorean-test-1\", table_schema=schema_miso, if_exists = \"replace\")\n"
      ],
      "metadata": {
        "colab": {
          "base_uri": "https://localhost:8080/"
        },
        "id": "NltwIChPDUj3",
        "outputId": "3bb1f926-9e99-4264-ecfe-02a6dcee33cc"
      },
      "execution_count": 19,
      "outputs": [
        {
          "output_type": "stream",
          "name": "stderr",
          "text": [
            "100%|██████████| 1/1 [00:00<00:00, 6647.07it/s]\n"
          ]
        }
      ]
    }
  ]
}